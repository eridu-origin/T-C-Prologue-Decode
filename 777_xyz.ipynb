{
  "nbformat": 4,
  "nbformat_minor": 0,
  "metadata": {
    "colab": {
      "provenance": [],
      "collapsed_sections": [],
      "authorship_tag": "ABX9TyMS3zz/rNfR9DziByy2RqMK",
      "include_colab_link": true
    },
    "kernelspec": {
      "name": "python3",
      "display_name": "Python 3"
    },
    "language_info": {
      "name": "python"
    }
  },
  "cells": [
    {
      "cell_type": "markdown",
      "metadata": {
        "id": "view-in-github",
        "colab_type": "text"
      },
      "source": [
        "<a href=\"https://colab.research.google.com/github/eridu-origin/T-C-Prologue-Decode/blob/main/777_xyz.ipynb\" target=\"_parent\"><img src=\"https://colab.research.google.com/assets/colab-badge.svg\" alt=\"Open In Colab\"/></a>"
      ]
    },
    {
      "cell_type": "code",
      "execution_count": null,
      "metadata": {
        "id": "fGivIN0_VAL9",
        "colab": {
          "base_uri": "https://localhost:8080/"
        },
        "outputId": "3776146e-60c2-4e53-8a9f-1a324421ac41"
      },
      "outputs": [
        {
          "output_type": "stream",
          "name": "stdout",
          "text": [
            "Mounted at /content/drive\n",
            "abc\n"
          ]
        }
      ],
      "source": [
        "\n",
        "from google.colab import drive\n",
        "drive.mount('/content/drive')\n",
        "\n",
        "print('abc5557777')"
      ]
    },
    {
      "cell_type": "code",
      "source": [
        "print('xyz122217777')"
      ],
      "metadata": {
        "id": "WumjYK9pep7M",
        "colab": {
          "base_uri": "https://localhost:8080/"
        },
        "outputId": "358bfb7e-6a89-4e95-a348-f404a1c5bdb5"
      },
      "execution_count": null,
      "outputs": [
        {
          "output_type": "stream",
          "name": "stdout",
          "text": [
            "xyz\n"
          ]
        }
      ]
    }
  ]
}